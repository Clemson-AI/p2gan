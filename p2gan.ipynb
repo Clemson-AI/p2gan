{
  "nbformat": 4,
  "nbformat_minor": 0,
  "metadata": {
    "colab": {
      "name": "p2gan.ipynb",
      "provenance": [],
      "collapsed_sections": []
    },
    "kernelspec": {
      "name": "python3",
      "display_name": "Python 3"
    },
    "accelerator": "GPU"
  },
  "cells": [
    {
      "cell_type": "markdown",
      "metadata": {
        "id": "F8I7KUKS_RJq"
      },
      "source": [
        "# P2GAN - Style Transfer\r\n",
        "[link to the arXiv paper](https://arxiv.org/pdf/2001.07466.pdf)\r\n",
        "<table align=\"left\"><td>\r\n",
        "  <a target=\"_blank\"  href=\"https://github.com/Clemson-AI/p2gan/blob/master/p2gan.ipynb\">\r\n",
        "    <img src=\"https://www.tensorflow.org/images/GitHub-Mark-32px.png\" />View source on github\r\n",
        "  </a>\r\n",
        "</td><td>\r\n",
        "  <a target=\"_blank\"  href=\"https://colab.sandbox.google.com/github/Clemson-AI/p2gan/blob/master/p2gan.ipynb\">\r\n",
        "    <img width=32px src=\"https://www.tensorflow.org/images/colab_logo_32px.png\" />Run in Google Colab</a>\r\n",
        "</td></table>"
      ]
    },
    {
      "cell_type": "code",
      "metadata": {
        "id": "vkcUozDdrqO2"
      },
      "source": [
        "# First uninstall default tensorflow version\r\n",
        "!pip uninstall tensorflow"
      ],
      "execution_count": null,
      "outputs": []
    },
    {
      "cell_type": "code",
      "metadata": {
        "id": "S8of3pAznmrG"
      },
      "source": [
        "# Install correct tensorflow version\r\n",
        "# Restart runtime after this finishes\r\n",
        "!pip install --user --upgrade tensorflow==1.15"
      ],
      "execution_count": null,
      "outputs": []
    },
    {
      "cell_type": "markdown",
      "metadata": {
        "id": "vpsIeVplAaE3"
      },
      "source": [
        "# Setup 🥱\r\n",
        "Read [paper](https://arxiv.org/abs/2001.07466) and visit [repo](https://github.com/i-evi/p2gan) for more details."
      ]
    },
    {
      "cell_type": "code",
      "metadata": {
        "id": "dKwcOKrDN6rB"
      },
      "source": [
        "# PASCAL dataset\r\n",
        "!wget http://host.robots.ox.ac.uk/pascal/VOC/voc2007/VOCtrainval_06-Nov-2007.tar"
      ],
      "execution_count": null,
      "outputs": []
    },
    {
      "cell_type": "code",
      "metadata": {
        "id": "zx9KX-vADJi2"
      },
      "source": [
        "# untar \r\n",
        "!tar -xvf VOCtrainval_06-Nov-2007.tar"
      ],
      "execution_count": null,
      "outputs": []
    },
    {
      "cell_type": "code",
      "metadata": {
        "id": "sfL7ugMhnj1j"
      },
      "source": [
        "# clone repo\r\n",
        "!git clone https://github.com/i-evi/p2gan.git"
      ],
      "execution_count": null,
      "outputs": []
    },
    {
      "cell_type": "code",
      "metadata": {
        "id": "UpHDjkbintvM"
      },
      "source": [
        "%cd p2gan"
      ],
      "execution_count": null,
      "outputs": []
    },
    {
      "cell_type": "code",
      "metadata": {
        "id": "cIB8vkRw7Ws2"
      },
      "source": [
        "# VGG Weights\r\n",
        "!gdown https://drive.google.com/uc?id=1abva-vfTJwJmBLMJWj5Eh6hMGGvM1U0A"
      ],
      "execution_count": null,
      "outputs": []
    },
    {
      "cell_type": "markdown",
      "metadata": {
        "id": "4qR1Nn6oA7e_"
      },
      "source": [
        "# Upload Images 🤳\r\n",
        "Upload at least one image to transfer style to. Optionally upload picture to train a new model on."
      ]
    },
    {
      "cell_type": "code",
      "metadata": {
        "id": "CLAUCXJ4QB2R"
      },
      "source": [
        "# run as many times as need\r\n",
        "from google.colab import files\r\n",
        "files.upload()"
      ],
      "execution_count": null,
      "outputs": []
    },
    {
      "cell_type": "code",
      "metadata": {
        "id": "Fvpm3pouSuZI"
      },
      "source": [
        "# if you are training again, you can run this to remove previous model\r\n",
        "#!rm -rf model_save"
      ],
      "execution_count": null,
      "outputs": []
    },
    {
      "cell_type": "code",
      "metadata": {
        "id": "95C5_QirbAt5"
      },
      "source": [
        "# store trained model here\r\n",
        "!mkdir model_save"
      ],
      "execution_count": null,
      "outputs": []
    },
    {
      "cell_type": "code",
      "metadata": {
        "id": "Bb2Y0d7ppu-c"
      },
      "source": [
        "# outputs will be stored here\r\n",
        "!mkdir output"
      ],
      "execution_count": null,
      "outputs": []
    },
    {
      "cell_type": "markdown",
      "metadata": {
        "id": "9yKGy6G6BenN"
      },
      "source": [
        "# Train 🏃‍♀️\r\n",
        "Run this if you want to train a new model. You will see discriminator and generator performance at the end."
      ]
    },
    {
      "cell_type": "code",
      "metadata": {
        "id": "OtIFNkGxO-XC"
      },
      "source": [
        "!python train.py --model model_save --style autumn-rhythm.jpg --dataset ../VOCdevkit/VOC2007/JPEGImages/ --lambda 5e-6"
      ],
      "execution_count": null,
      "outputs": []
    },
    {
      "cell_type": "markdown",
      "metadata": {
        "id": "lReDmNYTBq0n"
      },
      "source": [
        "# Render 🧙‍♂️\r\n",
        "Run this to perform style transfer. There are several pretrained options from `available_models/`  \r\n",
        "Visit the [repo](https://github.com/i-evi/p2gan) to see them.\r\n"
      ]
    },
    {
      "cell_type": "code",
      "metadata": {
        "id": "opPQeAzYpNSZ"
      },
      "source": [
        "!python render-keep-ratio.py --model available_models/Portrait-de-Metzinger\\(full\\) --inp paint.JPEG --oup output --size 2048"
      ],
      "execution_count": null,
      "outputs": []
    },
    {
      "cell_type": "markdown",
      "metadata": {
        "id": "IYVhO760CNDJ"
      },
      "source": [
        "# Download 👨‍🎨\r\n",
        "Download your image"
      ]
    },
    {
      "cell_type": "code",
      "metadata": {
        "id": "Rqml2JBTpNdm"
      },
      "source": [
        "from google.colab import files\r\n",
        "files.download(\"output/stylized.jpg\")"
      ],
      "execution_count": null,
      "outputs": []
    }
  ]
}